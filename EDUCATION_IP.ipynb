{
 "cells": [
  {
   "cell_type": "code",
   "execution_count": 2,
   "id": "8e949e89",
   "metadata": {},
   "outputs": [],
   "source": [
    "from ortools.linear_solver import pywraplp as ORTools\n",
    "input_data_path = './Data/'\n",
    "\n",
    "ip0 = ORTools.Solver.CreateSolver('SCIP_MIXED_INTEGER_PROGRAMMING')"
   ]
  },
  {
   "cell_type": "code",
   "execution_count": null,
   "id": "b4514601",
   "metadata": {},
   "outputs": [],
   "source": [
    "#reads the classes, room, and students pdfs [SAMPLE]\n",
    "#should list all the ORIE courses\n",
    "classes = (pd.read_csv(input_data_path+'classes.csv', index_col = 'course_id'))\n",
    "\n",
    "#should have each room available and the maximum capacity\n",
    "rooms = (pd.read_csv(input_data_path+'rooms.csv', index_col = 'room_id'))\n",
    "\n",
    "#should have number of students enrolled for each class\n",
    "students = (pd.read_csv(input_data_path+'students.csv', index_col = 0))\n",
    "\n",
    "classes\n",
    "display(students)\n",
    "display(rooms)\n"
   ]
  },
  {
   "cell_type": "markdown",
   "id": "95a93f7a",
   "metadata": {},
   "source": [
    "Define $x_{ijt},\\forall i \\in I$ where $I = \\{1,..,n\\},\\ \\forall j \\in J$ where $J = \\{1,..,m\\},\\ \\text{and } \\forall t \\in T$ where $T = \\{1,...,t\\}$ to indicate if class $i$ is assigned to room $j$ at time period $t$."
   ]
  },
  {
   "cell_type": "code",
   "execution_count": null,
   "id": "fa6ba787",
   "metadata": {},
   "outputs": [],
   "source": [
    "x = {}\n",
    "# define x\n",
    "for i in I:\n",
    "    for j in J:\n",
    "        for t in T:\n",
    "        x[i,j,t] = ip0.IntVar(0,1, 'x'+str([i,j,t]))"
   ]
  },
  {
   "cell_type": "code",
   "execution_count": null,
   "id": "73ce5bc1",
   "metadata": {},
   "outputs": [],
   "source": [
    "#objective function: minimize the number of occupied rooms\n",
    "obj = 0\n",
    "for i in I:\n",
    "    for j in J:\n",
    "        for t in T:\n",
    "            obj += x[i,j,s]\n",
    "ip0.Minimize(obj)  "
   ]
  },
  {
   "cell_type": "code",
   "execution_count": null,
   "id": "e074df26",
   "metadata": {},
   "outputs": [],
   "source": [
    "# constraint 1: each class is assigned to 1 room and 1 time period\n",
    "for i in I:\n",
    "    ip0.Add(sum(sum(x[i,j,t] for j in J) for t in T) ==1)\n",
    "for i in N:\n",
    "    ip0.Add(sum(y[i,s] for s in K)==1)"
   ]
  },
  {
   "cell_type": "code",
   "execution_count": null,
   "id": "50e175e2",
   "metadata": {},
   "outputs": [],
   "source": [
    "# constraint 2: two classes can not be in the same room at the same time\n",
    "for j in J:\n",
    "    for t in T:\n",
    "        ip0.Add(sum(x[i,j,t] for i in I) <=1)"
   ]
  },
  {
   "cell_type": "code",
   "execution_count": null,
   "id": "d92f48d3",
   "metadata": {},
   "outputs": [],
   "source": [
    "# constraint 3: teachers can not be in two places at once\n",
    "for i in I:\n",
    "    for t in T:\n",
    "        ip0.Add(sum(x[i,j,t] for j in J) <=1)"
   ]
  },
  {
   "cell_type": "code",
   "execution_count": null,
   "id": "40f236f2",
   "metadata": {},
   "outputs": [],
   "source": [
    "# constraint 4: the rooms must be able to hold the students enrolled\n",
    "for i in I;\n",
    "    for j in J:\n",
    "        ip0.Add(students[i]*x[i,j,t] <= room_capacity[j])"
   ]
  },
  {
   "cell_type": "code",
   "execution_count": null,
   "id": "854d932d",
   "metadata": {},
   "outputs": [],
   "source": [
    "# solve the IP and prints the objective value and all the variables with \n",
    "ip0.Solve()\n",
    "print(\"Objective value:\", ip0.Objective().Value())\n",
    "\n",
    "for var in lp.variables():\n",
    "    if var.solution_value() > 0:\n",
    "        print(var.name(),\" = \",round(var.solution_value()))"
   ]
  }
 ],
 "metadata": {
  "kernelspec": {
   "display_name": "Python 3 (ipykernel)",
   "language": "python",
   "name": "python3"
  },
  "language_info": {
   "codemirror_mode": {
    "name": "ipython",
    "version": 3
   },
   "file_extension": ".py",
   "mimetype": "text/x-python",
   "name": "python",
   "nbconvert_exporter": "python",
   "pygments_lexer": "ipython3",
   "version": "3.7.16"
  }
 },
 "nbformat": 4,
 "nbformat_minor": 5
}
