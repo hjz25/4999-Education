{
 "cells": [
  {
   "cell_type": "code",
   "execution_count": 1,
   "metadata": {},
   "outputs": [
    {
     "name": "stdout",
     "output_type": "stream",
     "text": [
      "      Start      End   Days  Value\n",
      "0    8:00am   8:50am    M/W      1\n",
      "1    9:05am   9:55am    M/W      2\n",
      "2   10:10am  11:00am    M/W      3\n",
      "3   11:15am  12:05am    M/W      4\n",
      "4   12:20am   1:10pm    M/W      5\n",
      "5    1:25pm   2:15pm    M/W      6\n",
      "6    2:30pm   3:20pm    M/W      7\n",
      "7    3:35pm   4:25pm    M/W      8\n",
      "8    8:40am   9:55am    M/W      9\n",
      "9    2:55pm   4:10pm    M/W     10\n",
      "10   7:30pm   8:45pm    M/W     11\n",
      "11   8:00am   8:50am  Tu/Th     12\n",
      "12   9:05am   9:55am  Tu/Th     13\n",
      "13  10:10am  11:00am  Tu/Th     14\n",
      "14  11:15am  12:05am  Tu/Th     15\n",
      "15  12:20am   1:10pm  Tu/Th     16\n",
      "16   1:25pm   2:15pm  Tu/Th     17\n",
      "17   2:30pm   3:20pm  Tu/Th     18\n",
      "18   3:35pm   4:25pm  Tu/Th     19\n",
      "19   8:40am   9:55am  Tu/Th     20\n",
      "20  10:10am  11:25am  Tu/Th     21\n",
      "21  11:40am  12:55am  Tu/Th     22\n",
      "22   1:25pm   2:40pm  Tu/Th     23\n",
      "23   2:55pm   4:10pm  Tu/Th     24\n",
      "24   7:30pm   8:20pm      M     25\n",
      "25   8:35pm   9:25pm      M     26\n",
      "26   7:30pm   8:20pm      W     27\n",
      "27   8:35pm   9:25pm      W     28\n",
      "28   8:00am   8:50am      F     29\n",
      "29   9:05am   9:55am      F     30\n",
      "30  10:10am  11:00am      F     31\n",
      "31  11:15am  12:05am      F     32\n",
      "32  12:20am   1:10pm      F     33\n",
      "33   1:25pm   2:15pm      F     34\n",
      "34   2:30pm   3:20pm      F     35\n",
      "35   3:35pm   4:25pm      F     36\n"
     ]
    }
   ],
   "source": [
    "import pandas as pd\n",
    "import numpy as np\n",
    "enumeration_df = pd.read_excel('4999_Enumeration.xlsx')\n",
    "print(enumeration_df)"
   ]
  },
  {
   "cell_type": "code",
   "execution_count": 2,
   "metadata": {},
   "outputs": [],
   "source": [
    "meeting_df = pd.DataFrame(enumeration_df)"
   ]
  },
  {
   "cell_type": "code",
   "execution_count": 3,
   "metadata": {},
   "outputs": [],
   "source": [
    "def time_to_minutes(time_str):\n",
    "    hours, minutes = map(int, time_str[:-2].split(':'))\n",
    "    if 'pm' in time_str.lower() and hours != 12:\n",
    "        hours += 12\n",
    "    return hours * 60 + minutes"
   ]
  },
  {
   "cell_type": "code",
   "execution_count": 4,
   "metadata": {},
   "outputs": [],
   "source": [
    "def convert_time_to_minutes(time_str):\n",
    "    hour, minute = time_str.split(':')\n",
    "    return int(hour) * 60 + int(minute[:-2]) + (0 if time_str.endswith('am') else 12 * 60)\n",
    "meeting_df['Start'] = meeting_df['Start'].apply(convert_time_to_minutes)\n",
    "meeting_df['End'] = meeting_df['End'].apply(convert_time_to_minutes)"
   ]
  },
  {
   "cell_type": "code",
   "execution_count": 5,
   "metadata": {},
   "outputs": [],
   "source": [
    "correcttimes_df = pd.DataFrame(meeting_df)"
   ]
  },
  {
   "cell_type": "code",
   "execution_count": 6,
   "metadata": {},
   "outputs": [
    {
     "name": "stdout",
     "output_type": "stream",
     "text": [
      "       1   2   3   4   5   6   7   8   9   10  ...  27  28  29  30  31  32  \\\n",
      "Value                                          ...                           \n",
      "1       1   0   0   0   0   0   0   0   1   0  ...   0   0   0   0   0   0   \n",
      "2       0   1   0   0   0   0   0   0   1   0  ...   0   0   0   0   0   0   \n",
      "3       0   0   1   0   0   0   0   0   0   0  ...   0   0   0   0   0   0   \n",
      "4       0   0   0   1   0   0   0   0   0   0  ...   0   0   0   0   0   0   \n",
      "5       0   0   0   0   1   0   0   0   0   0  ...   0   0   0   0   0   0   \n",
      "6       0   0   0   0   0   1   0   0   0   0  ...   0   0   0   0   0   0   \n",
      "7       0   0   0   0   0   0   1   0   0   1  ...   0   0   0   0   0   0   \n",
      "8       0   0   0   0   0   0   0   1   0   1  ...   0   0   0   0   0   0   \n",
      "9       1   1   0   0   0   0   0   0   1   0  ...   0   0   0   0   0   0   \n",
      "10      0   0   0   0   0   0   1   1   0   1  ...   0   0   0   0   0   0   \n",
      "11      0   0   0   0   0   0   0   0   0   0  ...   1   1   0   0   0   0   \n",
      "12      0   0   0   0   0   0   0   0   0   0  ...   0   0   0   0   0   0   \n",
      "13      0   0   0   0   0   0   0   0   0   0  ...   0   0   0   0   0   0   \n",
      "14      0   0   0   0   0   0   0   0   0   0  ...   0   0   0   0   0   0   \n",
      "15      0   0   0   0   0   0   0   0   0   0  ...   0   0   0   0   0   0   \n",
      "16      0   0   0   0   0   0   0   0   0   0  ...   0   0   0   0   0   0   \n",
      "17      0   0   0   0   0   0   0   0   0   0  ...   0   0   0   0   0   0   \n",
      "18      0   0   0   0   0   0   0   0   0   0  ...   0   0   0   0   0   0   \n",
      "19      0   0   0   0   0   0   0   0   0   0  ...   0   0   0   0   0   0   \n",
      "20      0   0   0   0   0   0   0   0   0   0  ...   0   0   0   0   0   0   \n",
      "21      0   0   0   0   0   0   0   0   0   0  ...   0   0   0   0   0   0   \n",
      "22      0   0   0   0   0   0   0   0   0   0  ...   0   0   0   0   0   0   \n",
      "23      0   0   0   0   0   0   0   0   0   0  ...   0   0   0   0   0   0   \n",
      "24      0   0   0   0   0   0   0   0   0   0  ...   0   0   0   0   0   0   \n",
      "25      0   0   0   0   0   0   0   0   0   0  ...   0   0   0   0   0   0   \n",
      "26      0   0   0   0   0   0   0   0   0   0  ...   0   0   0   0   0   0   \n",
      "27      0   0   0   0   0   0   0   0   0   0  ...   1   0   0   0   0   0   \n",
      "28      0   0   0   0   0   0   0   0   0   0  ...   0   1   0   0   0   0   \n",
      "29      0   0   0   0   0   0   0   0   0   0  ...   0   0   1   0   0   0   \n",
      "30      0   0   0   0   0   0   0   0   0   0  ...   0   0   0   1   0   0   \n",
      "31      0   0   0   0   0   0   0   0   0   0  ...   0   0   0   0   1   0   \n",
      "32      0   0   0   0   0   0   0   0   0   0  ...   0   0   0   0   0   1   \n",
      "33      0   0   0   0   0   0   0   0   0   0  ...   0   0   0   0   0   0   \n",
      "34      0   0   0   0   0   0   0   0   0   0  ...   0   0   0   0   0   0   \n",
      "35      0   0   0   0   0   0   0   0   0   0  ...   0   0   0   0   0   0   \n",
      "36      0   0   0   0   0   0   0   0   0   0  ...   0   0   0   0   0   0   \n",
      "\n",
      "       33  34  35  36  \n",
      "Value                  \n",
      "1       0   0   0   0  \n",
      "2       0   0   0   0  \n",
      "3       0   0   0   0  \n",
      "4       0   0   0   0  \n",
      "5       0   0   0   0  \n",
      "6       0   0   0   0  \n",
      "7       0   0   0   0  \n",
      "8       0   0   0   0  \n",
      "9       0   0   0   0  \n",
      "10      0   0   0   0  \n",
      "11      0   0   0   0  \n",
      "12      0   0   0   0  \n",
      "13      0   0   0   0  \n",
      "14      0   0   0   0  \n",
      "15      0   0   0   0  \n",
      "16      0   0   0   0  \n",
      "17      0   0   0   0  \n",
      "18      0   0   0   0  \n",
      "19      0   0   0   0  \n",
      "20      0   0   0   0  \n",
      "21      0   0   0   0  \n",
      "22      0   0   0   0  \n",
      "23      0   0   0   0  \n",
      "24      0   0   0   0  \n",
      "25      0   0   0   0  \n",
      "26      0   0   0   0  \n",
      "27      0   0   0   0  \n",
      "28      0   0   0   0  \n",
      "29      0   0   0   0  \n",
      "30      0   0   0   0  \n",
      "31      0   0   0   0  \n",
      "32      0   0   0   0  \n",
      "33      1   0   0   0  \n",
      "34      0   1   0   0  \n",
      "35      0   0   1   0  \n",
      "36      0   0   0   1  \n",
      "\n",
      "[36 rows x 36 columns]\n"
     ]
    }
   ],
   "source": [
    "matrix_size = len(correcttimes_df)\n",
    "overlap_matrix = np.zeros((matrix_size, matrix_size), dtype=int)\n",
    "for i in range(matrix_size):\n",
    "    for j in range(matrix_size):\n",
    "        days_overlap = set(correcttimes_df.iloc[i]['Days'].split('/')).intersection(set(correcttimes_df.iloc[j]['Days'].split('/')))\n",
    "        start_overlap = correcttimes_df.iloc[i]['Start'] <= correcttimes_df.iloc[j]['End'] and correcttimes_df.iloc[i]['End'] >= correcttimes_df.iloc[j]['Start']\n",
    "        overlap_matrix[i, j] = 1 if days_overlap and start_overlap else 0\n",
    "\n",
    "overlap_matrix_df = pd.DataFrame(overlap_matrix, index=correcttimes_df['Value'], columns=correcttimes_df['Value'].values)\n",
    "print(overlap_matrix_df)"
   ]
  },
  {
   "cell_type": "code",
   "execution_count": null,
   "metadata": {},
   "outputs": [],
   "source": []
  }
 ],
 "metadata": {
  "kernelspec": {
   "display_name": "Python 3",
   "language": "python",
   "name": "python3"
  },
  "language_info": {
   "codemirror_mode": {
    "name": "ipython",
    "version": 3
   },
   "file_extension": ".py",
   "mimetype": "text/x-python",
   "name": "python",
   "nbconvert_exporter": "python",
   "pygments_lexer": "ipython3",
   "version": "3.8.3"
  }
 },
 "nbformat": 4,
 "nbformat_minor": 4
}
