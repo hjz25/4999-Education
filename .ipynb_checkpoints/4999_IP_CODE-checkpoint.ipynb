{
 "cells": [
  {
   "cell_type": "code",
   "execution_count": null,
   "metadata": {
    "id": "vwzIXUFQ1mN_"
   },
   "outputs": [],
   "source": [
    "from ortools.linear_solver import pywraplp\n",
    "\n",
    "\n",
    "# Define your sets based on the problem\n",
    "C = []  # Set of classes\n",
    "R = []  # Set of rooms\n",
    "T = []  # Set of time periods\n",
    "F = []  # Set of class rooms\n",
    "k1 = 49 #Rhodes 453\n",
    "#k2 = #class capacity for room ORIE room 2\n",
    "#k3 = #class capacity for room ORIE room 3\n",
    "\n",
    "\n",
    "solver = pywraplp.Solver.CreateSolver('SCIP')\n",
    "\n",
    "#binary decision variables\n",
    "x = {}\n",
    "y = {}\n",
    "for c in C:\n",
    "    for r in R:\n",
    "        for t in T:\n",
    "            x[c, r, t] = solver.BoolVar('x[%i,%i,%i]' % (c, r, t))\n",
    "            y[c, r, t] = solver.BoolVar('y[%i,%i,%i]' % (c, r, t))\n",
    "\n",
    "\n",
    "objective = solver.Objective()\n",
    "# go back and implement Z in objective func\n",
    "\n",
    "# Each class must be in exactly one room at a time\n",
    "for c in C:\n",
    "    for t in T:\n",
    "        constraint = solver.Constraint(1, 1)\n",
    "        for r in R:\n",
    "            constraint.SetCoefficient(x[c, r, t], 1)\n",
    "\n",
    "# Each room can have at most one class at a time\n",
    "for r in R:\n",
    "    for t in T:\n",
    "        constraint = solver.Constraint(0, 1)\n",
    "        for c in C:\n",
    "            constraint.SetCoefficient(x[c, r, t], 1)\n",
    "\n",
    "# Constraints to ensure that a class is not scheduled in two rooms at the same time\n",
    "for i in L:\n",
    "    for r in R:\n",
    "        for n, m in F:\n",
    "            constraint = solver.Constraint(-solver.infinity(), 1)\n",
    "            constraint.SetCoefficient(x[i[0], r, n], 1)\n",
    "            constraint.SetCoefficient(x[i[1], r, m], 1)\n",
    "\n",
    "# Capacity constraints for rooms\n",
    "for x, k in enumerate([k1, k2, k3]):\n",
    "    constraint = solver.Constraint(-solver.infinity(), k)\n",
    "    for c in C:\n",
    "        for t in T:\n",
    "            constraint.SetCoefficient(x[c, x+1, t], 1)\n",
    "\n",
    "# Solve  problem\n",
    "status = solver.Solve()\n",
    "\n",
    "# Output\n",
    "if status == pywraplp.Solver.OPTIMAL:\n",
    "    for c in C:\n",
    "        for r in R:\n",
    "            for t in T:\n",
    "                if x[c, r, t].solution_value() == 1:\n",
    "                    print(f\"Class {c} is in room {r} at time {t}\")\n",
    "else:\n",
    "    print(\"The problem does not have an optimal solution.\")"
   ]
  },
  {
   "cell_type": "code",
   "execution_count": null,
   "metadata": {
    "id": "2FKcpj3G1-_T"
   },
   "outputs": [],
   "source": []
  }
 ],
 "metadata": {
  "colab": {
   "provenance": [],
   "toc_visible": true
  },
  "kernelspec": {
   "display_name": "Python 3",
   "language": "python",
   "name": "python3"
  },
  "language_info": {
   "codemirror_mode": {
    "name": "ipython",
    "version": 3
   },
   "file_extension": ".py",
   "mimetype": "text/x-python",
   "name": "python",
   "nbconvert_exporter": "python",
   "pygments_lexer": "ipython3",
   "version": "3.8.3"
  }
 },
 "nbformat": 4,
 "nbformat_minor": 1
}
