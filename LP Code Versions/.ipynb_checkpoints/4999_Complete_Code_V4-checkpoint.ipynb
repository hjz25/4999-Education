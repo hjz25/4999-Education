{
 "cells": [
  {
   "cell_type": "code",
   "execution_count": null,
   "metadata": {
    "colab": {
     "base_uri": "https://localhost:8080/"
    },
    "id": "_YeIDaQXF9Dl",
    "outputId": "eeafc518-73f1-4c01-db7b-1b2335f182fe"
   },
   "outputs": [
    {
     "name": "stdout",
     "output_type": "stream",
     "text": [
      "Collecting gurobipy\n",
      "  Downloading gurobipy-11.0.1-cp310-cp310-manylinux2014_x86_64.manylinux_2_17_x86_64.whl (13.4 MB)\n",
      "\u001b[2K     \u001b[90m━━━━━━━━━━━━━━━━━━━━━━━━━━━━━━━━━━━━━━━━\u001b[0m \u001b[32m13.4/13.4 MB\u001b[0m \u001b[31m25.4 MB/s\u001b[0m eta \u001b[36m0:00:00\u001b[0m\n",
      "\u001b[?25hInstalling collected packages: gurobipy\n",
      "Successfully installed gurobipy-11.0.1\n"
     ]
    }
   ],
   "source": [
    "%pip install gurobipy"
   ]
  },
  {
   "cell_type": "code",
   "execution_count": null,
   "metadata": {
    "id": "9FDmZEdqnYgF"
   },
   "outputs": [],
   "source": [
    "# %pip install -i https://pypi.gurobi.com gurobipy;\n",
    "import gurobipy\n",
    "import numpy as np\n",
    "import pandas as pd"
   ]
  },
  {
   "cell_type": "markdown",
   "metadata": {
    "id": "yUsbaen1PZZl"
   },
   "source": [
    "# Courses"
   ]
  },
  {
   "cell_type": "code",
   "execution_count": null,
   "metadata": {
    "colab": {
     "base_uri": "https://localhost:8080/"
    },
    "id": "br-XjyZU6Xtz",
    "outputId": "0173c9ec-234d-4dea-bc7b-2dc09cb99c69"
   },
   "outputs": [
    {
     "data": {
      "text/plain": [
       "array([[3120],\n",
       "       [3150],\n",
       "       [3310],\n",
       "       [3510]])"
      ]
     },
     "execution_count": 3,
     "metadata": {},
     "output_type": "execute_result"
    }
   ],
   "source": [
    "# upload the csv file with all the courses that will be offered in the new schedule\n",
    "\n",
    "C_df = pd.DataFrame(pd.read_csv('new_courses_temp.csv',header=None))\n",
    "C = C_df.sort_values(by=0).to_numpy()\n",
    "C"
   ]
  },
  {
   "cell_type": "markdown",
   "metadata": {
    "id": "Wb1G5-itPhZq"
   },
   "source": [
    "# Overlap List"
   ]
  },
  {
   "cell_type": "code",
   "execution_count": null,
   "metadata": {
    "id": "dLrK6klAGdv4"
   },
   "outputs": [],
   "source": [
    "# Function that creates an n x n matrix and puts a 1 were class i and class l can not overlap\n",
    "# n: integer\n",
    "# forbidden_pairs: array of unique pairs of the all the courses that can not overlap;\n",
    "# the courses are represented as indices of the C array\n",
    "\n",
    "def overlap(n, forbidden_pairs):\n",
    "    matrix = [[0] * n for _ in range(n)]\n",
    "\n",
    "    for i, l in forbidden_pairs:\n",
    "        if i <= n and l <= n:\n",
    "            matrix[l][i] = 1\n",
    "            matrix[i][l] = 1\n",
    "\n",
    "    return matrix"
   ]
  },
  {
   "cell_type": "code",
   "execution_count": null,
   "metadata": {
    "id": "sSPOfrJRKehC"
   },
   "outputs": [],
   "source": [
    "# Function that takes in an list of list of 2 course ids that can not overlap\n",
    "# (e.g. it would be a list of lists like this: [3120, 4580])\n",
    "# overlap_list: list of lists\n",
    "# courses: list C (list of all the classes that will be offered in the new year\n",
    "\n",
    "## we made this because the overlap function takes in a list of lists of indices,\n",
    "## so this converts the lists of classes that can't overlap into the lists of the indices\n",
    "\n",
    "def class_to_index(overlap_list, courses):\n",
    "  # must do this becuase 0 is an index in the courses list and represents ORIE 3120\n",
    "  index_matrix = np.zeros_like(overlap_list)\n",
    "\n",
    "  for i, row in enumerate(overlap_list):\n",
    "    for j, course in enumerate(row):\n",
    "      index_matrix[i, j] = np.where(courses == course)[0][0]\n",
    "  return index_matrix\n"
   ]
  },
  {
   "cell_type": "code",
   "execution_count": null,
   "metadata": {
    "id": "bCKkOKYx65M9"
   },
   "outputs": [],
   "source": [
    "# upload the given csv file with courses that can not overlap and turns it into a numpy array\n",
    "course_overlap_df = pd.DataFrame(pd.read_csv('course_overlap_temp.csv'))\n",
    "course_overlap = course_overlap_df.to_numpy()"
   ]
  },
  {
   "cell_type": "code",
   "execution_count": null,
   "metadata": {
    "colab": {
     "base_uri": "https://localhost:8080/"
    },
    "id": "ez83bT5YKL1_",
    "outputId": "a4e1a844-6d68-4eb4-ea29-e72df367c90e"
   },
   "outputs": [
    {
     "data": {
      "text/plain": [
       "[[0, 0, 1, 1], [0, 0, 0, 0], [1, 0, 0, 1], [1, 0, 1, 0]]"
      ]
     },
     "execution_count": 7,
     "metadata": {},
     "output_type": "execute_result"
    }
   ],
   "source": [
    "# uses helper functions to create matrix that contains a 1 in the spot related\n",
    "# to column i and row j if the classes (i,j) cannot overlap and a zero otherwise.\n",
    "\n",
    "index_course_overlap = class_to_index(course_overlap, C)\n",
    "L = overlap(len(C), index_course_overlap)\n",
    "L"
   ]
  },
  {
   "cell_type": "code",
   "execution_count": null,
   "metadata": {
    "id": "ks0qlzVfjUZf"
   },
   "outputs": [],
   "source": [
    "# check that all of the courses in the overlap list are in the course list\n",
    "## this is just a check because if this assertion is ever false, the program\n",
    "## won't work the way it should\n",
    "\n",
    "def is_subset(small_arr, big_arr):\n",
    "    result = np.isin(small_arr, big_arr)\n",
    "    return np.all(result)\n",
    "assert is_subset(course_overlap, C), \"Make sure C includes all values in L\""
   ]
  },
  {
   "cell_type": "markdown",
   "metadata": {
    "id": "72OMTxbJPfAq"
   },
   "source": [
    "# Rooms"
   ]
  },
  {
   "cell_type": "code",
   "execution_count": null,
   "metadata": {
    "colab": {
     "base_uri": "https://localhost:8080/"
    },
    "id": "42A3-L5Y6xHm",
    "outputId": "ea87710c-609a-4d8b-a634-c4ec5dd3a3da"
   },
   "outputs": [
    {
     "data": {
      "text/plain": [
       "array([[253],\n",
       "       [453],\n",
       "       [571],\n",
       "       [999]])"
      ]
     },
     "execution_count": 9,
     "metadata": {},
     "output_type": "execute_result"
    }
   ],
   "source": [
    "# upload the csv file with all the ORIE rooms that we are considering an extra\n",
    "# \"999\" room for the classes that do not need to be in ORIE rooms\n",
    "\n",
    "R_df = pd.DataFrame(pd.read_csv('orie_rooms.csv', header=None))\n",
    "R = R_df.to_numpy()\n",
    "R"
   ]
  },
  {
   "cell_type": "markdown",
   "metadata": {
    "id": "-u7lTX7q9jRv"
   },
   "source": [
    "# Meeting Times"
   ]
  },
  {
   "cell_type": "code",
   "execution_count": null,
   "metadata": {
    "id": "yCemCSrZ2XX2"
   },
   "outputs": [],
   "source": [
    "# upload the enumeration file which holds all the information regarding the\n",
    "# possible meeting times\n",
    "meeting_df = pd.DataFrame((pd.read_csv('4999_Enumeration.csv')))\n",
    "\n",
    "# helper function to figure out if the possible meeting times overlap\n",
    "def convert_time_to_minutes(time_str):\n",
    "    hour, minute = time_str.split(':')\n",
    "    return int(hour) * 60 + int(minute[:-2]) + (0 if time_str.endswith('am') else 12 * 60)\n",
    "meeting_df['Start'] = meeting_df['Start'].apply(convert_time_to_minutes)\n",
    "meeting_df['End'] = meeting_df['End'].apply(convert_time_to_minutes)\n",
    "T = meeting_df\n",
    "\n",
    "matrix_size = len(meeting_df)\n",
    "overlap_matrix = np.zeros((matrix_size, matrix_size), dtype=int)\n",
    "for i in range(matrix_size):\n",
    "    for j in range(matrix_size):\n",
    "        days_overlap = set(meeting_df.iloc[i]['Days'].split('/')).intersection(set(meeting_df.iloc[j]['Days'].split('/')))\n",
    "        start_overlap = meeting_df.iloc[i]['Start'] <= meeting_df.iloc[j]['End'] and meeting_df.iloc[i]['End'] >= meeting_df.iloc[j]['Start']\n",
    "        overlap_matrix[i, j] = 1 if days_overlap and start_overlap else 0\n",
    "\n",
    "overlap_matrix_df = pd.DataFrame(overlap_matrix, index=meeting_df['Value'], columns=meeting_df['Value'].values)\n",
    "\n",
    "# rename to match written IP; creates a matrix of all the meeting times that overlap\n",
    "# has a 1 if the meeting times overlap, a zero otherwise\n",
    "F = overlap_matrix_df.to_numpy()\n",
    "\n"
   ]
  },
  {
   "cell_type": "markdown",
   "metadata": {
    "id": "c_sd_oAiPUV7"
   },
   "source": [
    "# Last Year Schedule"
   ]
  },
  {
   "cell_type": "code",
   "execution_count": null,
   "metadata": {
    "colab": {
     "base_uri": "https://localhost:8080/",
     "height": 425
    },
    "id": "2dvqEa7krMLH",
    "outputId": "8ef0a9f8-0eec-4a7f-d56e-19ec42bc287f"
   },
   "outputs": [
    {
     "data": {
      "application/vnd.google.colaboratory.intrinsic+json": {
       "summary": "{\n  \"name\": \"last_year_schedule\",\n  \"rows\": 12,\n  \"fields\": [\n    {\n      \"column\": \"course_id\",\n      \"properties\": {\n        \"dtype\": \"number\",\n        \"std\": 161,\n        \"min\": 3120,\n        \"max\": 3510,\n        \"num_unique_values\": 4,\n        \"samples\": [\n          3310,\n          3120,\n          3150\n        ],\n        \"semantic_type\": \"\",\n        \"description\": \"\"\n      }\n    },\n    {\n      \"column\": \"room\",\n      \"properties\": {\n        \"dtype\": \"number\",\n        \"std\": 142,\n        \"min\": 253,\n        \"max\": 571,\n        \"num_unique_values\": 3,\n        \"samples\": [\n          253,\n          571,\n          453\n        ],\n        \"semantic_type\": \"\",\n        \"description\": \"\"\n      }\n    },\n    {\n      \"column\": \"time\",\n      \"properties\": {\n        \"dtype\": \"number\",\n        \"std\": 0,\n        \"min\": 1,\n        \"max\": 3,\n        \"num_unique_values\": 3,\n        \"samples\": [\n          1,\n          2,\n          3\n        ],\n        \"semantic_type\": \"\",\n        \"description\": \"\"\n      }\n    },\n    {\n      \"column\": \"y_crt\",\n      \"properties\": {\n        \"dtype\": \"number\",\n        \"std\": 0,\n        \"min\": 0,\n        \"max\": 1,\n        \"num_unique_values\": 2,\n        \"samples\": [\n          0,\n          1\n        ],\n        \"semantic_type\": \"\",\n        \"description\": \"\"\n      }\n    }\n  ]\n}",
       "type": "dataframe",
       "variable_name": "last_year_schedule"
      },
      "text/html": [
       "\n",
       "  <div id=\"df-8b6fed57-0222-42df-af80-e8fd593679cc\" class=\"colab-df-container\">\n",
       "    <div>\n",
       "<style scoped>\n",
       "    .dataframe tbody tr th:only-of-type {\n",
       "        vertical-align: middle;\n",
       "    }\n",
       "\n",
       "    .dataframe tbody tr th {\n",
       "        vertical-align: top;\n",
       "    }\n",
       "\n",
       "    .dataframe thead th {\n",
       "        text-align: right;\n",
       "    }\n",
       "</style>\n",
       "<table border=\"1\" class=\"dataframe\">\n",
       "  <thead>\n",
       "    <tr style=\"text-align: right;\">\n",
       "      <th></th>\n",
       "      <th>course_id</th>\n",
       "      <th>room</th>\n",
       "      <th>time</th>\n",
       "      <th>y_crt</th>\n",
       "    </tr>\n",
       "  </thead>\n",
       "  <tbody>\n",
       "    <tr>\n",
       "      <th>0</th>\n",
       "      <td>3150</td>\n",
       "      <td>253</td>\n",
       "      <td>1</td>\n",
       "      <td>1</td>\n",
       "    </tr>\n",
       "    <tr>\n",
       "      <th>1</th>\n",
       "      <td>3150</td>\n",
       "      <td>253</td>\n",
       "      <td>2</td>\n",
       "      <td>0</td>\n",
       "    </tr>\n",
       "    <tr>\n",
       "      <th>2</th>\n",
       "      <td>3150</td>\n",
       "      <td>253</td>\n",
       "      <td>3</td>\n",
       "      <td>0</td>\n",
       "    </tr>\n",
       "    <tr>\n",
       "      <th>3</th>\n",
       "      <td>3310</td>\n",
       "      <td>571</td>\n",
       "      <td>1</td>\n",
       "      <td>1</td>\n",
       "    </tr>\n",
       "    <tr>\n",
       "      <th>4</th>\n",
       "      <td>3310</td>\n",
       "      <td>571</td>\n",
       "      <td>2</td>\n",
       "      <td>0</td>\n",
       "    </tr>\n",
       "    <tr>\n",
       "      <th>5</th>\n",
       "      <td>3310</td>\n",
       "      <td>571</td>\n",
       "      <td>3</td>\n",
       "      <td>0</td>\n",
       "    </tr>\n",
       "    <tr>\n",
       "      <th>6</th>\n",
       "      <td>3510</td>\n",
       "      <td>453</td>\n",
       "      <td>1</td>\n",
       "      <td>0</td>\n",
       "    </tr>\n",
       "    <tr>\n",
       "      <th>7</th>\n",
       "      <td>3510</td>\n",
       "      <td>453</td>\n",
       "      <td>2</td>\n",
       "      <td>1</td>\n",
       "    </tr>\n",
       "    <tr>\n",
       "      <th>8</th>\n",
       "      <td>3510</td>\n",
       "      <td>453</td>\n",
       "      <td>3</td>\n",
       "      <td>0</td>\n",
       "    </tr>\n",
       "    <tr>\n",
       "      <th>9</th>\n",
       "      <td>3120</td>\n",
       "      <td>253</td>\n",
       "      <td>1</td>\n",
       "      <td>0</td>\n",
       "    </tr>\n",
       "    <tr>\n",
       "      <th>10</th>\n",
       "      <td>3120</td>\n",
       "      <td>253</td>\n",
       "      <td>2</td>\n",
       "      <td>0</td>\n",
       "    </tr>\n",
       "    <tr>\n",
       "      <th>11</th>\n",
       "      <td>3120</td>\n",
       "      <td>253</td>\n",
       "      <td>3</td>\n",
       "      <td>1</td>\n",
       "    </tr>\n",
       "  </tbody>\n",
       "</table>\n",
       "</div>\n",
       "    <div class=\"colab-df-buttons\">\n",
       "\n",
       "  <div class=\"colab-df-container\">\n",
       "    <button class=\"colab-df-convert\" onclick=\"convertToInteractive('df-8b6fed57-0222-42df-af80-e8fd593679cc')\"\n",
       "            title=\"Convert this dataframe to an interactive table.\"\n",
       "            style=\"display:none;\">\n",
       "\n",
       "  <svg xmlns=\"http://www.w3.org/2000/svg\" height=\"24px\" viewBox=\"0 -960 960 960\">\n",
       "    <path d=\"M120-120v-720h720v720H120Zm60-500h600v-160H180v160Zm220 220h160v-160H400v160Zm0 220h160v-160H400v160ZM180-400h160v-160H180v160Zm440 0h160v-160H620v160ZM180-180h160v-160H180v160Zm440 0h160v-160H620v160Z\"/>\n",
       "  </svg>\n",
       "    </button>\n",
       "\n",
       "  <style>\n",
       "    .colab-df-container {\n",
       "      display:flex;\n",
       "      gap: 12px;\n",
       "    }\n",
       "\n",
       "    .colab-df-convert {\n",
       "      background-color: #E8F0FE;\n",
       "      border: none;\n",
       "      border-radius: 50%;\n",
       "      cursor: pointer;\n",
       "      display: none;\n",
       "      fill: #1967D2;\n",
       "      height: 32px;\n",
       "      padding: 0 0 0 0;\n",
       "      width: 32px;\n",
       "    }\n",
       "\n",
       "    .colab-df-convert:hover {\n",
       "      background-color: #E2EBFA;\n",
       "      box-shadow: 0px 1px 2px rgba(60, 64, 67, 0.3), 0px 1px 3px 1px rgba(60, 64, 67, 0.15);\n",
       "      fill: #174EA6;\n",
       "    }\n",
       "\n",
       "    .colab-df-buttons div {\n",
       "      margin-bottom: 4px;\n",
       "    }\n",
       "\n",
       "    [theme=dark] .colab-df-convert {\n",
       "      background-color: #3B4455;\n",
       "      fill: #D2E3FC;\n",
       "    }\n",
       "\n",
       "    [theme=dark] .colab-df-convert:hover {\n",
       "      background-color: #434B5C;\n",
       "      box-shadow: 0px 1px 3px 1px rgba(0, 0, 0, 0.15);\n",
       "      filter: drop-shadow(0px 1px 2px rgba(0, 0, 0, 0.3));\n",
       "      fill: #FFFFFF;\n",
       "    }\n",
       "  </style>\n",
       "\n",
       "    <script>\n",
       "      const buttonEl =\n",
       "        document.querySelector('#df-8b6fed57-0222-42df-af80-e8fd593679cc button.colab-df-convert');\n",
       "      buttonEl.style.display =\n",
       "        google.colab.kernel.accessAllowed ? 'block' : 'none';\n",
       "\n",
       "      async function convertToInteractive(key) {\n",
       "        const element = document.querySelector('#df-8b6fed57-0222-42df-af80-e8fd593679cc');\n",
       "        const dataTable =\n",
       "          await google.colab.kernel.invokeFunction('convertToInteractive',\n",
       "                                                    [key], {});\n",
       "        if (!dataTable) return;\n",
       "\n",
       "        const docLinkHtml = 'Like what you see? Visit the ' +\n",
       "          '<a target=\"_blank\" href=https://colab.research.google.com/notebooks/data_table.ipynb>data table notebook</a>'\n",
       "          + ' to learn more about interactive tables.';\n",
       "        element.innerHTML = '';\n",
       "        dataTable['output_type'] = 'display_data';\n",
       "        await google.colab.output.renderOutput(dataTable, element);\n",
       "        const docLink = document.createElement('div');\n",
       "        docLink.innerHTML = docLinkHtml;\n",
       "        element.appendChild(docLink);\n",
       "      }\n",
       "    </script>\n",
       "  </div>\n",
       "\n",
       "\n",
       "<div id=\"df-709376bd-8791-4cba-b5f9-bb9cf8fc75bd\">\n",
       "  <button class=\"colab-df-quickchart\" onclick=\"quickchart('df-709376bd-8791-4cba-b5f9-bb9cf8fc75bd')\"\n",
       "            title=\"Suggest charts\"\n",
       "            style=\"display:none;\">\n",
       "\n",
       "<svg xmlns=\"http://www.w3.org/2000/svg\" height=\"24px\"viewBox=\"0 0 24 24\"\n",
       "     width=\"24px\">\n",
       "    <g>\n",
       "        <path d=\"M19 3H5c-1.1 0-2 .9-2 2v14c0 1.1.9 2 2 2h14c1.1 0 2-.9 2-2V5c0-1.1-.9-2-2-2zM9 17H7v-7h2v7zm4 0h-2V7h2v10zm4 0h-2v-4h2v4z\"/>\n",
       "    </g>\n",
       "</svg>\n",
       "  </button>\n",
       "\n",
       "<style>\n",
       "  .colab-df-quickchart {\n",
       "      --bg-color: #E8F0FE;\n",
       "      --fill-color: #1967D2;\n",
       "      --hover-bg-color: #E2EBFA;\n",
       "      --hover-fill-color: #174EA6;\n",
       "      --disabled-fill-color: #AAA;\n",
       "      --disabled-bg-color: #DDD;\n",
       "  }\n",
       "\n",
       "  [theme=dark] .colab-df-quickchart {\n",
       "      --bg-color: #3B4455;\n",
       "      --fill-color: #D2E3FC;\n",
       "      --hover-bg-color: #434B5C;\n",
       "      --hover-fill-color: #FFFFFF;\n",
       "      --disabled-bg-color: #3B4455;\n",
       "      --disabled-fill-color: #666;\n",
       "  }\n",
       "\n",
       "  .colab-df-quickchart {\n",
       "    background-color: var(--bg-color);\n",
       "    border: none;\n",
       "    border-radius: 50%;\n",
       "    cursor: pointer;\n",
       "    display: none;\n",
       "    fill: var(--fill-color);\n",
       "    height: 32px;\n",
       "    padding: 0;\n",
       "    width: 32px;\n",
       "  }\n",
       "\n",
       "  .colab-df-quickchart:hover {\n",
       "    background-color: var(--hover-bg-color);\n",
       "    box-shadow: 0 1px 2px rgba(60, 64, 67, 0.3), 0 1px 3px 1px rgba(60, 64, 67, 0.15);\n",
       "    fill: var(--button-hover-fill-color);\n",
       "  }\n",
       "\n",
       "  .colab-df-quickchart-complete:disabled,\n",
       "  .colab-df-quickchart-complete:disabled:hover {\n",
       "    background-color: var(--disabled-bg-color);\n",
       "    fill: var(--disabled-fill-color);\n",
       "    box-shadow: none;\n",
       "  }\n",
       "\n",
       "  .colab-df-spinner {\n",
       "    border: 2px solid var(--fill-color);\n",
       "    border-color: transparent;\n",
       "    border-bottom-color: var(--fill-color);\n",
       "    animation:\n",
       "      spin 1s steps(1) infinite;\n",
       "  }\n",
       "\n",
       "  @keyframes spin {\n",
       "    0% {\n",
       "      border-color: transparent;\n",
       "      border-bottom-color: var(--fill-color);\n",
       "      border-left-color: var(--fill-color);\n",
       "    }\n",
       "    20% {\n",
       "      border-color: transparent;\n",
       "      border-left-color: var(--fill-color);\n",
       "      border-top-color: var(--fill-color);\n",
       "    }\n",
       "    30% {\n",
       "      border-color: transparent;\n",
       "      border-left-color: var(--fill-color);\n",
       "      border-top-color: var(--fill-color);\n",
       "      border-right-color: var(--fill-color);\n",
       "    }\n",
       "    40% {\n",
       "      border-color: transparent;\n",
       "      border-right-color: var(--fill-color);\n",
       "      border-top-color: var(--fill-color);\n",
       "    }\n",
       "    60% {\n",
       "      border-color: transparent;\n",
       "      border-right-color: var(--fill-color);\n",
       "    }\n",
       "    80% {\n",
       "      border-color: transparent;\n",
       "      border-right-color: var(--fill-color);\n",
       "      border-bottom-color: var(--fill-color);\n",
       "    }\n",
       "    90% {\n",
       "      border-color: transparent;\n",
       "      border-bottom-color: var(--fill-color);\n",
       "    }\n",
       "  }\n",
       "</style>\n",
       "\n",
       "  <script>\n",
       "    async function quickchart(key) {\n",
       "      const quickchartButtonEl =\n",
       "        document.querySelector('#' + key + ' button');\n",
       "      quickchartButtonEl.disabled = true;  // To prevent multiple clicks.\n",
       "      quickchartButtonEl.classList.add('colab-df-spinner');\n",
       "      try {\n",
       "        const charts = await google.colab.kernel.invokeFunction(\n",
       "            'suggestCharts', [key], {});\n",
       "      } catch (error) {\n",
       "        console.error('Error during call to suggestCharts:', error);\n",
       "      }\n",
       "      quickchartButtonEl.classList.remove('colab-df-spinner');\n",
       "      quickchartButtonEl.classList.add('colab-df-quickchart-complete');\n",
       "    }\n",
       "    (() => {\n",
       "      let quickchartButtonEl =\n",
       "        document.querySelector('#df-709376bd-8791-4cba-b5f9-bb9cf8fc75bd button');\n",
       "      quickchartButtonEl.style.display =\n",
       "        google.colab.kernel.accessAllowed ? 'block' : 'none';\n",
       "    })();\n",
       "  </script>\n",
       "</div>\n",
       "    </div>\n",
       "  </div>\n"
      ],
      "text/plain": [
       "    course_id  room  time  y_crt\n",
       "0        3150   253     1      1\n",
       "1        3150   253     2      0\n",
       "2        3150   253     3      0\n",
       "3        3310   571     1      1\n",
       "4        3310   571     2      0\n",
       "5        3310   571     3      0\n",
       "6        3510   453     1      0\n",
       "7        3510   453     2      1\n",
       "8        3510   453     3      0\n",
       "9        3120   253     1      0\n",
       "10       3120   253     2      0\n",
       "11       3120   253     3      1"
      ]
     },
     "execution_count": 32,
     "metadata": {},
     "output_type": "execute_result"
    }
   ],
   "source": [
    "# importing last year schedule csv file\n",
    "## the one used here is a sample\n",
    "last_year_schedule = pd.DataFrame(pd.read_csv('last_year_schedule_temp.csv'))\n",
    "last_year_schedule"
   ]
  },
  {
   "cell_type": "code",
   "execution_count": null,
   "metadata": {
    "colab": {
     "base_uri": "https://localhost:8080/"
    },
    "id": "CTUYJIjOIasV",
    "outputId": "2f2bc306-f408-4254-886d-08243baff6e8"
   },
   "outputs": [
    {
     "data": {
      "text/plain": [
       "array([[[0, 0, 1],\n",
       "        [0, 0, 0],\n",
       "        [0, 0, 0],\n",
       "        [0, 0, 0]],\n",
       "\n",
       "       [[1, 0, 0],\n",
       "        [0, 0, 0],\n",
       "        [0, 0, 0],\n",
       "        [0, 0, 0]],\n",
       "\n",
       "       [[0, 0, 0],\n",
       "        [0, 0, 0],\n",
       "        [1, 0, 0],\n",
       "        [0, 0, 0]],\n",
       "\n",
       "       [[0, 0, 0],\n",
       "        [0, 1, 0],\n",
       "        [0, 0, 0],\n",
       "        [0, 0, 0]]])"
      ]
     },
     "execution_count": 37,
     "metadata": {},
     "output_type": "execute_result"
    }
   ],
   "source": [
    "# creates the matrix that represents last year's schedule\n",
    "\n",
    "last_year_matrix = np.zeros((len(C), len(R), len(T)), dtype=int)\n",
    "\n",
    "for _, row in last_year_schedule.iterrows():\n",
    "    if row['y_crt'] == 1:\n",
    "        # Find indices in C, R, and T that match the course_id, room, and time\n",
    "        course_index = C.index(row['course_id'])\n",
    "        room_index = R.index(row['room'])\n",
    "        time_index = T.index(row['time'])\n",
    "        last_year_matrix[course_index][room_index][time_index] = 1\n",
    "last_year_matrix"
   ]
  },
  {
   "cell_type": "code",
   "execution_count": null,
   "metadata": {
    "colab": {
     "base_uri": "https://localhost:8080/"
    },
    "id": "gcqlUlovQtgY",
    "outputId": "bce60df6-7b27-4cc6-cfe2-cc0fdca22bb8"
   },
   "outputs": [
    {
     "name": "stdout",
     "output_type": "stream",
     "text": [
      "[[[Variable((), boolean=True), Variable((), boolean=True), Variable((), boolean=True)], [Variable((), boolean=True), Variable((), boolean=True), Variable((), boolean=True)], [Variable((), boolean=True), Variable((), boolean=True), Variable((), boolean=True)], [Variable((), boolean=True), Variable((), boolean=True), Variable((), boolean=True)]], [[Variable((), boolean=True), Variable((), boolean=True), Variable((), boolean=True)], [Variable((), boolean=True), Variable((), boolean=True), Variable((), boolean=True)], [Variable((), boolean=True), Variable((), boolean=True), Variable((), boolean=True)], [Variable((), boolean=True), Variable((), boolean=True), Variable((), boolean=True)]], [[Variable((), boolean=True), Variable((), boolean=True), Variable((), boolean=True)], [Variable((), boolean=True), Variable((), boolean=True), Variable((), boolean=True)], [Variable((), boolean=True), Variable((), boolean=True), Variable((), boolean=True)], [Variable((), boolean=True), Variable((), boolean=True), Variable((), boolean=True)]], [[Variable((), boolean=True), Variable((), boolean=True), Variable((), boolean=True)], [Variable((), boolean=True), Variable((), boolean=True), Variable((), boolean=True)], [Variable((), boolean=True), Variable((), boolean=True), Variable((), boolean=True)], [Variable((), boolean=True), Variable((), boolean=True), Variable((), boolean=True)]]] [[[0 0 1]\n",
      "  [0 0 0]\n",
      "  [0 0 0]\n",
      "  [0 0 0]]\n",
      "\n",
      " [[1 0 0]\n",
      "  [0 0 0]\n",
      "  [0 0 0]\n",
      "  [0 0 0]]\n",
      "\n",
      " [[0 0 0]\n",
      "  [0 0 0]\n",
      "  [1 0 0]\n",
      "  [0 0 0]]\n",
      "\n",
      " [[0 0 0]\n",
      "  [0 1 0]\n",
      "  [0 0 0]\n",
      "  [0 0 0]]] [Expression(CONVEX, NONNEGATIVE, ()), Expression(CONVEX, NONNEGATIVE, ()), Expression(CONVEX, NONNEGATIVE, ()), Expression(CONVEX, NONNEGATIVE, ()), Expression(CONVEX, NONNEGATIVE, ()), Expression(CONVEX, NONNEGATIVE, ()), Expression(CONVEX, NONNEGATIVE, ()), Expression(CONVEX, NONNEGATIVE, ()), Expression(CONVEX, NONNEGATIVE, ()), Expression(CONVEX, NONNEGATIVE, ()), Expression(CONVEX, NONNEGATIVE, ()), Expression(CONVEX, NONNEGATIVE, ()), Expression(CONVEX, NONNEGATIVE, ()), Expression(CONVEX, NONNEGATIVE, ()), Expression(CONVEX, NONNEGATIVE, ()), Expression(CONVEX, NONNEGATIVE, ()), Expression(CONVEX, NONNEGATIVE, ()), Expression(CONVEX, NONNEGATIVE, ()), Expression(CONVEX, NONNEGATIVE, ()), Expression(CONVEX, NONNEGATIVE, ()), Expression(CONVEX, NONNEGATIVE, ()), Expression(CONVEX, NONNEGATIVE, ()), Expression(CONVEX, NONNEGATIVE, ()), Expression(CONVEX, NONNEGATIVE, ()), Expression(CONVEX, NONNEGATIVE, ()), Expression(CONVEX, NONNEGATIVE, ()), Expression(CONVEX, NONNEGATIVE, ()), Expression(CONVEX, NONNEGATIVE, ()), Expression(CONVEX, NONNEGATIVE, ()), Expression(CONVEX, NONNEGATIVE, ()), Expression(CONVEX, NONNEGATIVE, ()), Expression(CONVEX, NONNEGATIVE, ()), Expression(CONVEX, NONNEGATIVE, ()), Expression(CONVEX, NONNEGATIVE, ()), Expression(CONVEX, NONNEGATIVE, ()), Expression(CONVEX, NONNEGATIVE, ()), Expression(CONVEX, NONNEGATIVE, ()), Expression(CONVEX, NONNEGATIVE, ()), Expression(CONVEX, NONNEGATIVE, ()), Expression(CONVEX, NONNEGATIVE, ()), Expression(CONVEX, NONNEGATIVE, ()), Expression(CONVEX, NONNEGATIVE, ()), Expression(CONVEX, NONNEGATIVE, ()), Expression(CONVEX, NONNEGATIVE, ()), Expression(CONVEX, NONNEGATIVE, ()), Expression(CONVEX, NONNEGATIVE, ()), Expression(CONVEX, NONNEGATIVE, ()), Expression(CONVEX, NONNEGATIVE, ())]\n",
      "[Equality(Variable((), boolean=True), Constant(CONSTANT, NONNEGATIVE, ())), Equality(Variable((), boolean=True), Constant(CONSTANT, NONNEGATIVE, ())), Equality(Variable((), boolean=True), Constant(CONSTANT, NONNEGATIVE, ())), Equality(Variable((), boolean=True), Constant(CONSTANT, NONNEGATIVE, ())), Equality(Variable((), boolean=True), Constant(CONSTANT, NONNEGATIVE, ())), Equality(Variable((), boolean=True), Constant(CONSTANT, NONNEGATIVE, ())), Equality(Variable((), boolean=True), Constant(CONSTANT, NONNEGATIVE, ())), Equality(Variable((), boolean=True), Constant(CONSTANT, NONNEGATIVE, ())), Equality(Variable((), boolean=True), Constant(CONSTANT, NONNEGATIVE, ())), Equality(Variable((), boolean=True), Constant(CONSTANT, NONNEGATIVE, ())), Equality(Variable((), boolean=True), Constant(CONSTANT, NONNEGATIVE, ())), Equality(Variable((), boolean=True), Constant(CONSTANT, NONNEGATIVE, ())), Equality(Variable((), boolean=True), Constant(CONSTANT, NONNEGATIVE, ())), Equality(Variable((), boolean=True), Constant(CONSTANT, NONNEGATIVE, ())), Equality(Variable((), boolean=True), Constant(CONSTANT, NONNEGATIVE, ())), Equality(Variable((), boolean=True), Constant(CONSTANT, NONNEGATIVE, ())), Equality(Variable((), boolean=True), Constant(CONSTANT, NONNEGATIVE, ())), Equality(Variable((), boolean=True), Constant(CONSTANT, NONNEGATIVE, ())), Equality(Variable((), boolean=True), Constant(CONSTANT, NONNEGATIVE, ())), Equality(Variable((), boolean=True), Constant(CONSTANT, NONNEGATIVE, ())), Equality(Variable((), boolean=True), Constant(CONSTANT, NONNEGATIVE, ())), Equality(Variable((), boolean=True), Constant(CONSTANT, NONNEGATIVE, ())), Equality(Variable((), boolean=True), Constant(CONSTANT, NONNEGATIVE, ())), Equality(Variable((), boolean=True), Constant(CONSTANT, NONNEGATIVE, ())), Equality(Variable((), boolean=True), Constant(CONSTANT, NONNEGATIVE, ())), Equality(Variable((), boolean=True), Constant(CONSTANT, NONNEGATIVE, ())), Equality(Variable((), boolean=True), Constant(CONSTANT, NONNEGATIVE, ())), Equality(Variable((), boolean=True), Constant(CONSTANT, NONNEGATIVE, ())), Equality(Variable((), boolean=True), Constant(CONSTANT, NONNEGATIVE, ())), Equality(Variable((), boolean=True), Constant(CONSTANT, NONNEGATIVE, ())), Equality(Variable((), boolean=True), Constant(CONSTANT, NONNEGATIVE, ())), Equality(Variable((), boolean=True), Constant(CONSTANT, NONNEGATIVE, ())), Equality(Variable((), boolean=True), Constant(CONSTANT, NONNEGATIVE, ())), Equality(Variable((), boolean=True), Constant(CONSTANT, NONNEGATIVE, ())), Equality(Variable((), boolean=True), Constant(CONSTANT, NONNEGATIVE, ())), Equality(Variable((), boolean=True), Constant(CONSTANT, NONNEGATIVE, ())), Equality(Variable((), boolean=True), Constant(CONSTANT, NONNEGATIVE, ())), Equality(Variable((), boolean=True), Constant(CONSTANT, NONNEGATIVE, ())), Equality(Variable((), boolean=True), Constant(CONSTANT, NONNEGATIVE, ())), Equality(Variable((), boolean=True), Constant(CONSTANT, NONNEGATIVE, ())), Inequality(Expression(AFFINE, NONNEGATIVE, ())), Inequality(Expression(AFFINE, NONNEGATIVE, ())), Inequality(Expression(AFFINE, NONNEGATIVE, ())), Inequality(Expression(AFFINE, NONNEGATIVE, ())), Inequality(Expression(AFFINE, NONNEGATIVE, ())), Inequality(Expression(AFFINE, NONNEGATIVE, ())), Inequality(Expression(AFFINE, NONNEGATIVE, ())), Inequality(Expression(AFFINE, NONNEGATIVE, ())), Inequality(Expression(AFFINE, NONNEGATIVE, ())), Inequality(Expression(AFFINE, NONNEGATIVE, ())), Inequality(Expression(AFFINE, NONNEGATIVE, ())), Inequality(Expression(AFFINE, NONNEGATIVE, ())), Inequality(Expression(AFFINE, NONNEGATIVE, ())), Inequality(Expression(AFFINE, NONNEGATIVE, ())), Inequality(Expression(AFFINE, NONNEGATIVE, ())), Inequality(Expression(AFFINE, NONNEGATIVE, ())), Inequality(Expression(AFFINE, NONNEGATIVE, ())), Inequality(Expression(AFFINE, NONNEGATIVE, ())), Inequality(Expression(AFFINE, NONNEGATIVE, ())), Inequality(Expression(AFFINE, NONNEGATIVE, ())), Inequality(Expression(AFFINE, NONNEGATIVE, ())), Inequality(Expression(AFFINE, NONNEGATIVE, ())), Inequality(Expression(AFFINE, NONNEGATIVE, ())), Inequality(Expression(AFFINE, NONNEGATIVE, ())), Inequality(Expression(AFFINE, NONNEGATIVE, ())), Inequality(Expression(AFFINE, NONNEGATIVE, ())), Inequality(Expression(AFFINE, NONNEGATIVE, ())), Inequality(Expression(AFFINE, NONNEGATIVE, ())), Inequality(Expression(AFFINE, NONNEGATIVE, ())), Inequality(Expression(AFFINE, NONNEGATIVE, ())), Inequality(Expression(AFFINE, NONNEGATIVE, ())), Inequality(Expression(AFFINE, NONNEGATIVE, ())), Inequality(Expression(AFFINE, NONNEGATIVE, ())), Inequality(Expression(AFFINE, NONNEGATIVE, ())), Inequality(Expression(AFFINE, NONNEGATIVE, ())), Inequality(Expression(AFFINE, NONNEGATIVE, ())), Inequality(Expression(AFFINE, NONNEGATIVE, ())), Inequality(Expression(AFFINE, NONNEGATIVE, ())), Inequality(Expression(AFFINE, NONNEGATIVE, ())), Inequality(Expression(AFFINE, NONNEGATIVE, ())), Inequality(Expression(AFFINE, NONNEGATIVE, ())), Inequality(Expression(AFFINE, NONNEGATIVE, ())), Inequality(Expression(AFFINE, NONNEGATIVE, ())), Inequality(Expression(AFFINE, NONNEGATIVE, ())), Inequality(Expression(AFFINE, NONNEGATIVE, ())), Inequality(Expression(AFFINE, NONNEGATIVE, ())), Inequality(Expression(AFFINE, NONNEGATIVE, ())), Inequality(Expression(AFFINE, NONNEGATIVE, ())), Inequality(Expression(AFFINE, NONNEGATIVE, ())), Inequality(Expression(AFFINE, NONNEGATIVE, ())), Inequality(Expression(AFFINE, NONNEGATIVE, ())), Inequality(Expression(AFFINE, NONNEGATIVE, ())), Inequality(Expression(AFFINE, NONNEGATIVE, ())), Inequality(Expression(AFFINE, NONNEGATIVE, ())), Inequality(Expression(AFFINE, NONNEGATIVE, ())), Inequality(Expression(AFFINE, NONNEGATIVE, ())), Inequality(Expression(AFFINE, NONNEGATIVE, ())), Inequality(Expression(AFFINE, NONNEGATIVE, ())), Inequality(Expression(AFFINE, NONNEGATIVE, ())), Inequality(Expression(AFFINE, NONNEGATIVE, ())), Inequality(Expression(AFFINE, NONNEGATIVE, ())), Inequality(Expression(AFFINE, NONNEGATIVE, ())), Inequality(Expression(AFFINE, NONNEGATIVE, ())), Inequality(Expression(AFFINE, NONNEGATIVE, ())), Inequality(Expression(AFFINE, NONNEGATIVE, ())), Inequality(Expression(AFFINE, NONNEGATIVE, ())), Inequality(Expression(AFFINE, NONNEGATIVE, ())), Inequality(Expression(AFFINE, NONNEGATIVE, ())), Inequality(Expression(AFFINE, NONNEGATIVE, ())), Inequality(Expression(AFFINE, NONNEGATIVE, ())), Inequality(Expression(AFFINE, NONNEGATIVE, ())), Inequality(Expression(AFFINE, NONNEGATIVE, ())), Inequality(Variable((), boolean=True)), Inequality(Variable((), boolean=True)), Inequality(Variable((), boolean=True)), Inequality(Variable((), boolean=True)), Inequality(Variable((), boolean=True)), Inequality(Variable((), boolean=True)), Inequality(Variable((), boolean=True)), Inequality(Variable((), boolean=True)), Inequality(Variable((), boolean=True)), Inequality(Variable((), boolean=True)), Inequality(Variable((), boolean=True)), Inequality(Variable((), boolean=True)), Inequality(Variable((), boolean=True)), Inequality(Variable((), boolean=True)), Inequality(Variable((), boolean=True)), Inequality(Variable((), boolean=True)), Inequality(Variable((), boolean=True)), Inequality(Variable((), boolean=True)), Inequality(Variable((), boolean=True)), Inequality(Variable((), boolean=True)), Inequality(Variable((), boolean=True)), Inequality(Variable((), boolean=True)), Inequality(Variable((), boolean=True)), Inequality(Variable((), boolean=True)), Inequality(Variable((), boolean=True)), Inequality(Variable((), boolean=True)), Inequality(Variable((), boolean=True)), Inequality(Variable((), boolean=True)), Inequality(Variable((), boolean=True)), Inequality(Variable((), boolean=True)), Inequality(Variable((), boolean=True)), Inequality(Variable((), boolean=True)), Inequality(Variable((), boolean=True)), Inequality(Variable((), boolean=True)), Inequality(Variable((), boolean=True)), Inequality(Variable((), boolean=True))]\n",
      "[Expression(CONVEX, NONNEGATIVE, ()), Expression(CONVEX, NONNEGATIVE, ()), Expression(CONVEX, NONNEGATIVE, ()), Expression(CONVEX, NONNEGATIVE, ()), Expression(CONVEX, NONNEGATIVE, ()), Expression(CONVEX, NONNEGATIVE, ()), Expression(CONVEX, NONNEGATIVE, ()), Expression(CONVEX, NONNEGATIVE, ()), Expression(CONVEX, NONNEGATIVE, ()), Expression(CONVEX, NONNEGATIVE, ()), Expression(CONVEX, NONNEGATIVE, ()), Expression(CONVEX, NONNEGATIVE, ()), Expression(CONVEX, NONNEGATIVE, ()), Expression(CONVEX, NONNEGATIVE, ()), Expression(CONVEX, NONNEGATIVE, ()), Expression(CONVEX, NONNEGATIVE, ()), Expression(CONVEX, NONNEGATIVE, ()), Expression(CONVEX, NONNEGATIVE, ()), Expression(CONVEX, NONNEGATIVE, ()), Expression(CONVEX, NONNEGATIVE, ()), Expression(CONVEX, NONNEGATIVE, ()), Expression(CONVEX, NONNEGATIVE, ()), Expression(CONVEX, NONNEGATIVE, ()), Expression(CONVEX, NONNEGATIVE, ()), Expression(CONVEX, NONNEGATIVE, ()), Expression(CONVEX, NONNEGATIVE, ()), Expression(CONVEX, NONNEGATIVE, ()), Expression(CONVEX, NONNEGATIVE, ()), Expression(CONVEX, NONNEGATIVE, ()), Expression(CONVEX, NONNEGATIVE, ()), Expression(CONVEX, NONNEGATIVE, ()), Expression(CONVEX, NONNEGATIVE, ()), Expression(CONVEX, NONNEGATIVE, ()), Expression(CONVEX, NONNEGATIVE, ()), Expression(CONVEX, NONNEGATIVE, ()), Expression(CONVEX, NONNEGATIVE, ()), Expression(CONVEX, NONNEGATIVE, ()), Expression(CONVEX, NONNEGATIVE, ()), Expression(CONVEX, NONNEGATIVE, ()), Expression(CONVEX, NONNEGATIVE, ()), Expression(CONVEX, NONNEGATIVE, ()), Expression(CONVEX, NONNEGATIVE, ()), Expression(CONVEX, NONNEGATIVE, ()), Expression(CONVEX, NONNEGATIVE, ()), Expression(CONVEX, NONNEGATIVE, ()), Expression(CONVEX, NONNEGATIVE, ()), Expression(CONVEX, NONNEGATIVE, ()), Expression(CONVEX, NONNEGATIVE, ())]\n",
      "Problem Status: infeasible_or_unbounded\n",
      "The problem is not solved optimally, status: infeasible_or_unbounded\n"
     ]
    },
    {
     "name": "stderr",
     "output_type": "stream",
     "text": [
      "/usr/local/lib/python3.10/dist-packages/cvxpy/problems/problem.py:1393: UserWarning: \n",
      "    The problem is either infeasible or unbounded, but the solver\n",
      "    cannot tell which. Disable any solver-specific presolve methods\n",
      "    and re-solve to determine the precise problem status.\n",
      "\n",
      "    For GUROBI and CPLEX you can automatically perform this re-solve\n",
      "    with the keyword argument prob.solve(reoptimize=True, ...).\n",
      "    \n",
      "  warnings.warn(INF_OR_UNB_MESSAGE)\n"
     ]
    }
   ],
   "source": [
    "# %pip install -i https://pypi.gurobi.com gurobipy;\n",
    "# import gurobipy\n",
    "import cvxpy as cp\n",
    "import numpy as np\n",
    "import pandas as pd\n",
    "\n",
    "# C = []  # Set of classes\n",
    "# R = []  # Set of rooms (first 3 rooms are ORIE and 4th is extra)\n",
    "# T = []  # Set of time periods\n",
    "# L = []  # graph of nodes with edges between pairs (i,j) of classes that are forbidden to overlap​\n",
    "# F = []  # nodes with edges between pairs (n,m) of meeting patterns that overlap with each other​\n",
    "\n",
    "# The following are just used for testing:\n",
    "# C = [3120, 3150, 3310, 3510]\n",
    "# R = [253, 453, 571, 999]\n",
    "# T = [1,2,3]\n",
    "# k1 = 7 # Rhodes 253 (temp val for testing)\n",
    "# k2 = 7 # Rhodes 453\n",
    "# k3 = 7 # Rhodes 571 (temp val for testing)\n",
    "\n",
    "def classScheduler(C,R,T, last_year_matrix):\n",
    "  # Define vars\n",
    "  x = [[[cp.Variable(boolean=True) for t in range(len(T))] for r in range(len(R))] for c in range(len(C))]\n",
    "\n",
    "  #last year's schedule from code block aboverepresented as a martix y\n",
    "  y = last_year_matrix\n",
    "\n",
    "  z = [cp.abs(x[c][r][t] - y[c][r][t]) for c in range(len(C)) for r in range(len(R)) for t in range(len(T))]\n",
    "\n",
    "  # Objective function: minimize the sum of all z values\n",
    "  objective = cp.Minimize(cp.sum(z))\n",
    "\n",
    "  print(x,y,z)\n",
    "  constraints = []\n",
    "\n",
    "  # objective = cp.Minimize(sum(sum(sum(z[c][r][t] for t in range(len(T))) for r in range(len(R))) for c in range(len(C))))\n",
    "\n",
    "  # objective = cp.Minimize(cp.sum(cp.abs(x[c][r][t] - y[c][r][t]) for c in range(len(C)) for r in range(len(R)) for t in range(len(T))))\n",
    "\n",
    "\n",
    "  # these constraints are commented out because these absolute value constraints\n",
    "  # were messing up the linear program compiling; therefore we put the absolute value\n",
    "  # in the definition of z\n",
    "\n",
    "  # constraints 1 and 2\n",
    "  # for c in range(len(C)):\n",
    "  #   for r in range(len(R)):\n",
    "  #     for t in range(len(T)):\n",
    "  #       constraints += [z[c][r][t] >= y[c][r][t] - x[c][r][t]]\n",
    "  #       constraints += [z[c][r][t] >= x[c][r][t] - y[c][r][t]]\n",
    "\n",
    "  #constraint 3\n",
    "  for c in range(len(C)):\n",
    "    constraints += [x[c][r][t] == 1]\n",
    "\n",
    "  #constraint 4\n",
    "  for c in range(len(C)):\n",
    "    for r in range(len(R)-1):\n",
    "      for t in range(len(T)):\n",
    "        constraints += [x[c][r][t] == 1]\n",
    "\n",
    "  #constraint 5\n",
    "  for i in range(len(C)):  # for each class i\n",
    "    for j in range(len(C)):  # for each class j\n",
    "        if L[i][j] == 1:  # check if classes i and j should not overlap\n",
    "            for t1 in range(len(T)):  # for each time period t1\n",
    "                for t2 in range(len(T)):  # for each time period t2\n",
    "                    if F[t1][t2] == 1:  # check if time periods t1 and t2 overlap\n",
    "                        for r in range(len(R)):  # for each room r\n",
    "                            constraints += [x[i][r][t1] + x[j][r][t2] <= 1]  # add constraint\n",
    "\n",
    "  #constraint 6,7,8\n",
    "  for c in range(len(C)):\n",
    "    for t in range(len(T)):\n",
    "      constraints += [x[c][0][t] <= k1]\n",
    "\n",
    "  for c in range(len(C)):\n",
    "    for t in range(len(T)):\n",
    "      constraints += [x[c][1][t] <= k2]\n",
    "\n",
    "  for c in range(len(C)):\n",
    "    for t in range(len(T)):\n",
    "      constraints += [x[c][2][t] <= k3]\n",
    "\n",
    "  # for r in range(len(R)):\n",
    "  #   for c in range(len(C)):\n",
    "  #     for t in range(len(T)):\n",
    "  #       obj += z[c][r][t]\n",
    "\n",
    "  problem = cp.Problem(objective, constraints)\n",
    "  problem.solve(solver = cp.GUROBI, verbose = False)\n",
    "\n",
    "  print(constraints)\n",
    "\n",
    "  print(\"Problem Status:\", problem.status)\n",
    "  if problem.status == cp.OPTIMAL or problem.status == cp.OPTIMAL_INACCURATE:\n",
    "      for c in range(len(C)):\n",
    "          for r in range(len(R)):\n",
    "              for t in range(len(T)):\n",
    "                  print(f\"x_({C[c]},{R[r]},{T[t]}) = {x[c][r][t].value:.2f}, y_({C[c]},{R[r]},{T[t]}) = {y[c][r][t]}\")\n",
    "  else:\n",
    "      print(\"The problem is not solved optimally, status:\", problem.status)\n",
    "\n",
    "return problem.value\n",
    "\n",
    "#iterate throught the rooms and call classScheduler(C,R,T) within each loop and check for the lowest value returned\n"
   ]
  }
 ],
 "metadata": {
  "colab": {
   "provenance": []
  },
  "kernelspec": {
   "display_name": "Python 3 (ipykernel)",
   "language": "python",
   "name": "python3"
  },
  "language_info": {
   "codemirror_mode": {
    "name": "ipython",
    "version": 3
   },
   "file_extension": ".py",
   "mimetype": "text/x-python",
   "name": "python",
   "nbconvert_exporter": "python",
   "pygments_lexer": "ipython3",
   "version": "3.9.7"
  }
 },
 "nbformat": 4,
 "nbformat_minor": 1
}
