{
  "nbformat": 4,
  "nbformat_minor": 0,
  "metadata": {
    "colab": {
      "provenance": []
    },
    "kernelspec": {
      "name": "python3",
      "display_name": "Python 3"
    },
    "language_info": {
      "name": "python"
    }
  },
  "cells": [
    {
      "cell_type": "code",
      "execution_count": 2,
      "metadata": {
        "colab": {
          "base_uri": "https://localhost:8080/"
        },
        "id": "gcqlUlovQtgY",
        "outputId": "03a2d487-e29a-48c4-c0bc-1b5f6baa87ec"
      },
      "outputs": [
        {
          "output_type": "stream",
          "name": "stdout",
          "text": [
            "Looking in indexes: https://pypi.gurobi.com\n",
            "Requirement already satisfied: gurobipy in /usr/local/lib/python3.10/dist-packages (11.0.1)\n"
          ]
        }
      ],
      "source": [
        "%pip install -i https://pypi.gurobi.com gurobipy;\n",
        "import gurobipy\n",
        "import cvxpy as cp\n",
        "import numpy as np\n",
        "import pandas as pd\n",
        "\n",
        "C = []  # Set of classes\n",
        "R = []  # Set of rooms (first 3 rooms are ORIE and 4th is extra)\n",
        "T = []  # Set of time periods\n",
        "L = []  # graph of nodes with edges between pairs (i,j) of classes that are forbidden to overlap​\n",
        "F = []  # nodes with edges between pairs (n,m) of meeting patterns that overlap with each other​\n",
        "k1 = 75 # Rhodes 253 (temp val for testing)\n",
        "k2 = 49 # Rhodes 453 (temp val for testing)\n",
        "k3 = 60 # Rhodes 571 (temp val for testing)\n",
        "\n",
        "def classSheduler(C,R,T):\n",
        "  #Define vars\n",
        "  x = [[cp.Variable () for c in range (C) ] for r in range (R) for t in range(T)]\n",
        "  y = [[cp.Variable () for c in range (C) ] for r in range (R) for t in range(T)]\n",
        "  z = [[cp.Variable () for c in range (C) ] for r in range (R) for t in range(T)]\n",
        "\n",
        "  objective = cp.Minimize(z[c][r][t] for c in range (C) for r in range (R) for t in range(T))\n",
        "\n",
        "  constraints = []\n",
        "\n",
        "  #constraint 1\n",
        "  for c in C:\n",
        "    for r in R:\n",
        "      for t in T:\n",
        "        constraints += [z[c][r][t] >= y[c][r][t] - x[c][r][t]]\n",
        "\n",
        "  #constraint 2\n",
        "  for c in C:\n",
        "    for r in R:\n",
        "      for t in T:\n",
        "        constraints += [z[c][r][t] >= x[c][r][t] - y[c][r][t]]\n",
        "\n",
        "  #constraint 3\n",
        "  for c in C:\n",
        "    constraints += [x[c][r][t] == 1]\n",
        "\n",
        "  #constraint 4\n",
        "  for r in range(len(R-1)):\n",
        "    for c in range(C):\n",
        "      for t in range(T):\n",
        "        constraints += [x[c][r][t] == 1]\n",
        "\n",
        "  #constraint 5\n",
        "  for i,j in L:\n",
        "    for n,m in F:\n",
        "      for r in R:\n",
        "        constraints += [x[i][r][m] + x[i][j][m] <= 1]\n",
        "\n",
        "  #constraint 6,7,8\n",
        "  for c in range(C):\n",
        "    for t in range(T):\n",
        "      constraints += [x[c][0][t] <= k1]\n",
        "\n",
        "  for c in range(C):\n",
        "    for t in range(T):\n",
        "      constraints += [x[c][1][t] <= k2]\n",
        "\n",
        "  for c in range(C):\n",
        "    for t in range(T):\n",
        "      constraints += [x[c][2][t] <= k3]\n",
        "\n",
        "\n",
        "  problem = cp.Problem(objective, constraints)\n",
        "  problem.solve(solver = cp.GUROBI, verbose = False)\n",
        "\n",
        "  return problem.value\n",
        "\n",
        "\n",
        "  #ask about the iterative provess\n"
      ]
    }
  ]
}