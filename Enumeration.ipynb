{
 "cells": [
  {
   "cell_type": "code",
   "execution_count": 2,
   "metadata": {},
   "outputs": [
    {
     "name": "stdout",
     "output_type": "stream",
     "text": [
      "               Time   Lentgh   Days  Value\n",
      "0     8:00am-8:50am  50 mins    M/W      1\n",
      "1     9:05am-9:55am  50 mins    M/W      2\n",
      "2   10:10am-11:00am  50 mins    M/W      3\n",
      "3   11:15am-12:05am  50 mins    M/W      4\n",
      "4    12:20am-1:10pm  50 mins    M/W      5\n",
      "5     1:25pm-2:15pm  50 mins    M/W      6\n",
      "6     2:30pm-3:20pm  50 mins    M/W      7\n",
      "7     3:35pm-4:25pm  50 mins    M/W      8\n",
      "8     8:40am-9:55am  75 mins    M/W      9\n",
      "9     2:55pm-4:10pm  75 mins    M/W     10\n",
      "10    7:30pm-8:45pm  75 mins    M/W     11\n",
      "11    8:00am-8:50am  50 mins  Tu/Th     12\n",
      "12    9:05am-9:55am  50 mins  Tu/Th     13\n",
      "13  10:10am-11:00am  50 mins  Tu/Th     14\n",
      "14  11:15am-12:05am  50 mins  Tu/Th     15\n",
      "15   12:20am-1:10pm  50 mins  Tu/Th     16\n",
      "16    1:25pm-2:15pm  50 mins  Tu/Th     17\n",
      "17    2:30pm-3:20pm  50 mins  Tu/Th     18\n",
      "18    3:35pm-4:25pm  50 mins  Tu/Th     19\n",
      "19    8:40am-9:55am  75 mins  Tu/Th     20\n",
      "20  10:10am-11:25am  75 mins  Tu/Th     21\n",
      "21  11:40am-12:55am  75 mins  Tu/Th     22\n",
      "22    1:25pm-2:40pm  75 mins  Tu/Th     23\n",
      "23    2:55pm-4:10pm  75 mins  Tu/Th     24\n",
      "24    7:30pm-8:20pm  50 mins      M     25\n",
      "25    8:35pm-9:25pm  50 mins      M     26\n",
      "26    7:30pm-8:20pm  50 mins      W     27\n",
      "27    8:35pm-9:25pm  50 mins      W     28\n",
      "28    8:00am-8:50am  50 mins      F     29\n",
      "29    9:05am-9:55am  50 mins      F     30\n",
      "30  10:10am-11:00am  50 mins      F     31\n",
      "31  11:15am-12:05am  50 mins      F     32\n",
      "32   12:20am-1:10pm  50 mins      F     33\n",
      "33    1:25pm-2:15pm  50 mins      F     34\n",
      "34    2:30pm-3:20pm  50 mins      F     35\n",
      "35    3:35pm-4:25pm  50 mins      F     36\n"
     ]
    }
   ],
   "source": [
    "import pandas as pd\n",
    "enumeration_df = pd.read_excel('4999_Enumeration.xlsx')\n",
    "print(enumeration_df)"
   ]
  },
  {
   "cell_type": "code",
   "execution_count": 4,
   "metadata": {},
   "outputs": [
    {
     "name": "stdout",
     "output_type": "stream",
     "text": [
      "Days                F     M   M/W  Tu/Th     W\n",
      "Time                                          \n",
      "10:10am-11:00am  31.0   NaN   3.0   14.0   NaN\n",
      "10:10am-11:25am   NaN   NaN   NaN   21.0   NaN\n",
      "11:15am-12:05am  32.0   NaN   4.0   15.0   NaN\n",
      "11:40am-12:55am   NaN   NaN   NaN   22.0   NaN\n",
      "12:20am-1:10pm   33.0   NaN   5.0   16.0   NaN\n",
      "1:25pm-2:15pm    34.0   NaN   6.0   17.0   NaN\n",
      "1:25pm-2:40pm     NaN   NaN   NaN   23.0   NaN\n",
      "2:30pm-3:20pm    35.0   NaN   7.0   18.0   NaN\n",
      "2:55pm-4:10pm     NaN   NaN  10.0   24.0   NaN\n",
      "3:35pm-4:25pm    36.0   NaN   8.0   19.0   NaN\n",
      "7:30pm-8:20pm     NaN  25.0   NaN    NaN  27.0\n",
      "7:30pm-8:45pm     NaN   NaN  11.0    NaN   NaN\n",
      "8:00am-8:50am    29.0   NaN   1.0   12.0   NaN\n",
      "8:35pm-9:25pm     NaN  26.0   NaN    NaN  28.0\n",
      "8:40am-9:55am     NaN   NaN   9.0   20.0   NaN\n",
      "9:05am-9:55am    30.0   NaN   2.0   13.0   NaN\n"
     ]
    }
   ],
   "source": [
    "pivot_df = enumeration_df.pivot(index='Time', columns='Days', values='Value')\n",
    "print(pivot_df)"
   ]
  },
  {
   "cell_type": "code",
   "execution_count": 5,
   "metadata": {},
   "outputs": [
    {
     "name": "stdout",
     "output_type": "stream",
     "text": [
      "[[31. nan  3. 14. nan]\n",
      " [nan nan nan 21. nan]\n",
      " [32. nan  4. 15. nan]\n",
      " [nan nan nan 22. nan]\n",
      " [33. nan  5. 16. nan]\n",
      " [34. nan  6. 17. nan]\n",
      " [nan nan nan 23. nan]\n",
      " [35. nan  7. 18. nan]\n",
      " [nan nan 10. 24. nan]\n",
      " [36. nan  8. 19. nan]\n",
      " [nan 25. nan nan 27.]\n",
      " [nan nan 11. nan nan]\n",
      " [29. nan  1. 12. nan]\n",
      " [nan 26. nan nan 28.]\n",
      " [nan nan  9. 20. nan]\n",
      " [30. nan  2. 13. nan]]\n"
     ]
    }
   ],
   "source": [
    "enumeration_matrix = pivot_df.values\n",
    "print(enumeration_matrix)"
   ]
  },
  {
   "cell_type": "code",
   "execution_count": null,
   "metadata": {},
   "outputs": [],
   "source": []
  }
 ],
 "metadata": {
  "kernelspec": {
   "display_name": "Python 3",
   "language": "python",
   "name": "python3"
  },
  "language_info": {
   "codemirror_mode": {
    "name": "ipython",
    "version": 3
   },
   "file_extension": ".py",
   "mimetype": "text/x-python",
   "name": "python",
   "nbconvert_exporter": "python",
   "pygments_lexer": "ipython3",
   "version": "3.8.3"
  }
 },
 "nbformat": 4,
 "nbformat_minor": 4
}
